{
 "cells": [
  {
   "cell_type": "markdown",
   "metadata": {},
   "source": [
    "# Phase 4 Project"
   ]
  },
  {
   "cell_type": "markdown",
   "metadata": {},
   "source": [
    "## Business Objective"
   ]
  },
  {
   "cell_type": "markdown",
   "metadata": {},
   "source": [
    "To help Acme Online, an online electronics store, analyze customer tweets from their Twitter page about Apple and Google products. The result of this analysis will be used to find out which company's product has more favourable reviews and the reasons behind it - this will help Acme Online adjust their inventory accordingly."
   ]
  },
  {
   "cell_type": "markdown",
   "metadata": {},
   "source": [
    "## Methodology"
   ]
  },
  {
   "cell_type": "markdown",
   "metadata": {},
   "source": [
    "1. Analyze tweets to check which product category is the most popular among customers.\n",
    "2. Analyze tweets to check what customers like/dislike about each category.\n",
    "2. We will attempt to build a model using NLP that helps classify tweets based on Apple or Google products. We will use the f1-score for model evaluations since reducing FP's and FN's is more valuable in this case."
   ]
  },
  {
   "cell_type": "markdown",
   "metadata": {},
   "source": [
    "# Dataset"
   ]
  },
  {
   "cell_type": "markdown",
   "metadata": {},
   "source": [
    "Dataset sourced from CrowdFlower via data.world: https://data.world/crowdflower/brands-and-product-emotions"
   ]
  },
  {
   "cell_type": "markdown",
   "metadata": {},
   "source": [
    "# Analysis"
   ]
  },
  {
   "cell_type": "code",
   "execution_count": 1,
   "metadata": {},
   "outputs": [],
   "source": [
    "#import relevant libraries\n",
    "import pandas as pd\n",
    "import matplotlib.pyplot as plt\n",
    "from wordcloud import WordCloud\n",
    "from nltk.stem import PorterStemmer\n",
    "import nltk\n",
    "from nltk.corpus import stopwords\n",
    "from sklearn.model_selection import train_test_split\n",
    "from sklearn.feature_extraction.text import CountVectorizer,TfidfVectorizer\n",
    "from sklearn.linear_model import LogisticRegression\n",
    "from sklearn.naive_bayes import MultinomialNB\n",
    "from sklearn.ensemble import RandomForestClassifier\n",
    "from sklearn import svm\n",
    "from sklearn.metrics import classification_report, plot_confusion_matrix\n",
    "from sklearn.metrics import f1_score,accuracy_score\n",
    "from sklearn.pipeline import Pipeline\n",
    "import numpy as np\n",
    "from nltk import word_tokenize\n",
    "from gensim.models import Word2Vec\n",
    "from nltk.tokenize import RegexpTokenizer\n",
    "from nltk import FreqDist\n",
    "import warnings\n",
    "warnings.filterwarnings('ignore')"
   ]
  },
  {
   "cell_type": "code",
   "execution_count": 2,
   "metadata": {
    "scrolled": false
   },
   "outputs": [
    {
     "data": {
      "text/html": [
       "<div>\n",
       "<style scoped>\n",
       "    .dataframe tbody tr th:only-of-type {\n",
       "        vertical-align: middle;\n",
       "    }\n",
       "\n",
       "    .dataframe tbody tr th {\n",
       "        vertical-align: top;\n",
       "    }\n",
       "\n",
       "    .dataframe thead th {\n",
       "        text-align: right;\n",
       "    }\n",
       "</style>\n",
       "<table border=\"1\" class=\"dataframe\">\n",
       "  <thead>\n",
       "    <tr style=\"text-align: right;\">\n",
       "      <th></th>\n",
       "      <th>tweet_text</th>\n",
       "      <th>emotion_in_tweet_is_directed_at</th>\n",
       "      <th>is_there_an_emotion_directed_at_a_brand_or_product</th>\n",
       "    </tr>\n",
       "  </thead>\n",
       "  <tbody>\n",
       "    <tr>\n",
       "      <th>0</th>\n",
       "      <td>.@wesley83 I have a 3G iPhone. After 3 hrs twe...</td>\n",
       "      <td>iPhone</td>\n",
       "      <td>Negative emotion</td>\n",
       "    </tr>\n",
       "    <tr>\n",
       "      <th>1</th>\n",
       "      <td>@jessedee Know about @fludapp ? Awesome iPad/i...</td>\n",
       "      <td>iPad or iPhone App</td>\n",
       "      <td>Positive emotion</td>\n",
       "    </tr>\n",
       "    <tr>\n",
       "      <th>2</th>\n",
       "      <td>@swonderlin Can not wait for #iPad 2 also. The...</td>\n",
       "      <td>iPad</td>\n",
       "      <td>Positive emotion</td>\n",
       "    </tr>\n",
       "    <tr>\n",
       "      <th>3</th>\n",
       "      <td>@sxsw I hope this year's festival isn't as cra...</td>\n",
       "      <td>iPad or iPhone App</td>\n",
       "      <td>Negative emotion</td>\n",
       "    </tr>\n",
       "    <tr>\n",
       "      <th>4</th>\n",
       "      <td>@sxtxstate great stuff on Fri #SXSW: Marissa M...</td>\n",
       "      <td>Google</td>\n",
       "      <td>Positive emotion</td>\n",
       "    </tr>\n",
       "  </tbody>\n",
       "</table>\n",
       "</div>"
      ],
      "text/plain": [
       "                                          tweet_text  \\\n",
       "0  .@wesley83 I have a 3G iPhone. After 3 hrs twe...   \n",
       "1  @jessedee Know about @fludapp ? Awesome iPad/i...   \n",
       "2  @swonderlin Can not wait for #iPad 2 also. The...   \n",
       "3  @sxsw I hope this year's festival isn't as cra...   \n",
       "4  @sxtxstate great stuff on Fri #SXSW: Marissa M...   \n",
       "\n",
       "  emotion_in_tweet_is_directed_at  \\\n",
       "0                          iPhone   \n",
       "1              iPad or iPhone App   \n",
       "2                            iPad   \n",
       "3              iPad or iPhone App   \n",
       "4                          Google   \n",
       "\n",
       "  is_there_an_emotion_directed_at_a_brand_or_product  \n",
       "0                                   Negative emotion  \n",
       "1                                   Positive emotion  \n",
       "2                                   Positive emotion  \n",
       "3                                   Negative emotion  \n",
       "4                                   Positive emotion  "
      ]
     },
     "execution_count": 2,
     "metadata": {},
     "output_type": "execute_result"
    }
   ],
   "source": [
    "df= pd.read_csv('tweets.csv',encoding='unicode escape',)\n",
    "df.head()"
   ]
  },
  {
   "cell_type": "markdown",
   "metadata": {},
   "source": [
    "## Pre-processing"
   ]
  },
  {
   "cell_type": "markdown",
   "metadata": {},
   "source": [
    "***To save ourselves from lot's of keystrokes, let's rename the columns***"
   ]
  },
  {
   "cell_type": "code",
   "execution_count": 3,
   "metadata": {
    "scrolled": true
   },
   "outputs": [
    {
     "data": {
      "text/html": [
       "<div>\n",
       "<style scoped>\n",
       "    .dataframe tbody tr th:only-of-type {\n",
       "        vertical-align: middle;\n",
       "    }\n",
       "\n",
       "    .dataframe tbody tr th {\n",
       "        vertical-align: top;\n",
       "    }\n",
       "\n",
       "    .dataframe thead th {\n",
       "        text-align: right;\n",
       "    }\n",
       "</style>\n",
       "<table border=\"1\" class=\"dataframe\">\n",
       "  <thead>\n",
       "    <tr style=\"text-align: right;\">\n",
       "      <th></th>\n",
       "      <th>tweet_text</th>\n",
       "      <th>product_service</th>\n",
       "      <th>emotion</th>\n",
       "    </tr>\n",
       "  </thead>\n",
       "  <tbody>\n",
       "    <tr>\n",
       "      <th>0</th>\n",
       "      <td>.@wesley83 I have a 3G iPhone. After 3 hrs twe...</td>\n",
       "      <td>iPhone</td>\n",
       "      <td>Negative emotion</td>\n",
       "    </tr>\n",
       "    <tr>\n",
       "      <th>1</th>\n",
       "      <td>@jessedee Know about @fludapp ? Awesome iPad/i...</td>\n",
       "      <td>iPad or iPhone App</td>\n",
       "      <td>Positive emotion</td>\n",
       "    </tr>\n",
       "    <tr>\n",
       "      <th>2</th>\n",
       "      <td>@swonderlin Can not wait for #iPad 2 also. The...</td>\n",
       "      <td>iPad</td>\n",
       "      <td>Positive emotion</td>\n",
       "    </tr>\n",
       "    <tr>\n",
       "      <th>3</th>\n",
       "      <td>@sxsw I hope this year's festival isn't as cra...</td>\n",
       "      <td>iPad or iPhone App</td>\n",
       "      <td>Negative emotion</td>\n",
       "    </tr>\n",
       "    <tr>\n",
       "      <th>4</th>\n",
       "      <td>@sxtxstate great stuff on Fri #SXSW: Marissa M...</td>\n",
       "      <td>Google</td>\n",
       "      <td>Positive emotion</td>\n",
       "    </tr>\n",
       "  </tbody>\n",
       "</table>\n",
       "</div>"
      ],
      "text/plain": [
       "                                          tweet_text     product_service  \\\n",
       "0  .@wesley83 I have a 3G iPhone. After 3 hrs twe...              iPhone   \n",
       "1  @jessedee Know about @fludapp ? Awesome iPad/i...  iPad or iPhone App   \n",
       "2  @swonderlin Can not wait for #iPad 2 also. The...                iPad   \n",
       "3  @sxsw I hope this year's festival isn't as cra...  iPad or iPhone App   \n",
       "4  @sxtxstate great stuff on Fri #SXSW: Marissa M...              Google   \n",
       "\n",
       "            emotion  \n",
       "0  Negative emotion  \n",
       "1  Positive emotion  \n",
       "2  Positive emotion  \n",
       "3  Negative emotion  \n",
       "4  Positive emotion  "
      ]
     },
     "execution_count": 3,
     "metadata": {},
     "output_type": "execute_result"
    }
   ],
   "source": [
    "#renaming the columns to make it less cumbersome\n",
    "df.rename(columns={'emotion_in_tweet_is_directed_at':'product_service',\n",
    "                   'is_there_an_emotion_directed_at_a_brand_or_product':'emotion'},inplace=True)\n",
    "df.head()"
   ]
  },
  {
   "cell_type": "code",
   "execution_count": 4,
   "metadata": {
    "scrolled": false
   },
   "outputs": [
    {
     "name": "stdout",
     "output_type": "stream",
     "text": [
      "<class 'pandas.core.frame.DataFrame'>\n",
      "RangeIndex: 9093 entries, 0 to 9092\n",
      "Data columns (total 3 columns):\n",
      " #   Column           Non-Null Count  Dtype \n",
      "---  ------           --------------  ----- \n",
      " 0   tweet_text       9092 non-null   object\n",
      " 1   product_service  3291 non-null   object\n",
      " 2   emotion          9093 non-null   object\n",
      "dtypes: object(3)\n",
      "memory usage: 213.2+ KB\n"
     ]
    }
   ],
   "source": [
    "#getting some info\n",
    "df.info()"
   ]
  },
  {
   "cell_type": "markdown",
   "metadata": {},
   "source": [
    "***There are no numeric values in our df which is what we'd expect given that we're analyzing tweets***"
   ]
  },
  {
   "cell_type": "code",
   "execution_count": 5,
   "metadata": {
    "scrolled": false
   },
   "outputs": [
    {
     "data": {
      "text/plain": [
       "tweet_text            1\n",
       "product_service    5802\n",
       "emotion               0\n",
       "dtype: int64"
      ]
     },
     "execution_count": 5,
     "metadata": {},
     "output_type": "execute_result"
    }
   ],
   "source": [
    "#checking for null values\n",
    "df.isna().sum()"
   ]
  },
  {
   "cell_type": "markdown",
   "metadata": {},
   "source": [
    "***From the above,we can see that the `product_service` column has a large number of missing values; more than 50%. Let's leave it for now and remove the one empty row in `tweet_text`***"
   ]
  },
  {
   "cell_type": "code",
   "execution_count": 6,
   "metadata": {},
   "outputs": [],
   "source": [
    "df = df[df['tweet_text'].notnull()]"
   ]
  },
  {
   "cell_type": "code",
   "execution_count": 7,
   "metadata": {
    "scrolled": false
   },
   "outputs": [
    {
     "data": {
      "text/plain": [
       "iPad                               946\n",
       "Apple                              661\n",
       "iPad or iPhone App                 470\n",
       "Google                             430\n",
       "iPhone                             297\n",
       "Other Google product or service    293\n",
       "Android App                         81\n",
       "Android                             78\n",
       "Other Apple product or service      35\n",
       "Name: product_service, dtype: int64"
      ]
     },
     "execution_count": 7,
     "metadata": {},
     "output_type": "execute_result"
    }
   ],
   "source": [
    "#examining the product_service column\n",
    "df['product_service'].value_counts()"
   ]
  },
  {
   "cell_type": "code",
   "execution_count": 8,
   "metadata": {
    "scrolled": true
   },
   "outputs": [
    {
     "data": {
      "text/plain": [
       "Not Applicable        5801\n",
       "iPad                   946\n",
       "Google                 723\n",
       "Apple                  696\n",
       "iPad or iPhone App     470\n",
       "iPhone                 297\n",
       "Android                159\n",
       "Name: product_service, dtype: int64"
      ]
     },
     "execution_count": 8,
     "metadata": {},
     "output_type": "execute_result"
    }
   ],
   "source": [
    "#let's group product/services that resemble each other for both brands. This will make for easier analysis\n",
    "\n",
    "df['product_service'].replace('Other Google product or service','Google',inplace=True)\n",
    "df['product_service'].replace('Other Apple product or service','Apple',inplace=True)\n",
    "df['product_service'].replace('Android App','Android',inplace=True)\n",
    "df['product_service'].fillna('Not Applicable',inplace=True)\n",
    "\n",
    "#checking\n",
    "df['product_service'].value_counts()"
   ]
  },
  {
   "cell_type": "markdown",
   "metadata": {},
   "source": [
    "***Let's apply some of the common pre-processing steps when it comes to working with text data:***\n",
    "\n",
    "1. ***Remove capitalization***\n",
    "2. ***Remove puntuations and special characters***\n",
    "3. ***Tokenizing***"
   ]
  },
  {
   "cell_type": "code",
   "execution_count": 9,
   "metadata": {
    "scrolled": false
   },
   "outputs": [
    {
     "data": {
      "text/html": [
       "<div>\n",
       "<style scoped>\n",
       "    .dataframe tbody tr th:only-of-type {\n",
       "        vertical-align: middle;\n",
       "    }\n",
       "\n",
       "    .dataframe tbody tr th {\n",
       "        vertical-align: top;\n",
       "    }\n",
       "\n",
       "    .dataframe thead th {\n",
       "        text-align: right;\n",
       "    }\n",
       "</style>\n",
       "<table border=\"1\" class=\"dataframe\">\n",
       "  <thead>\n",
       "    <tr style=\"text-align: right;\">\n",
       "      <th></th>\n",
       "      <th>tweet_text</th>\n",
       "      <th>product_service</th>\n",
       "      <th>emotion</th>\n",
       "      <th>text_token</th>\n",
       "    </tr>\n",
       "  </thead>\n",
       "  <tbody>\n",
       "    <tr>\n",
       "      <th>0</th>\n",
       "      <td>.@wesley83 i have a 3g iphone. after 3 hrs twe...</td>\n",
       "      <td>iPhone</td>\n",
       "      <td>Negative emotion</td>\n",
       "      <td>[wesley83, have, 3g, iphone, after, hrs, tweet...</td>\n",
       "    </tr>\n",
       "    <tr>\n",
       "      <th>1</th>\n",
       "      <td>@jessedee know about @fludapp ? awesome ipad/i...</td>\n",
       "      <td>iPad or iPhone App</td>\n",
       "      <td>Positive emotion</td>\n",
       "      <td>[jessedee, know, about, fludapp, awesome, ipad...</td>\n",
       "    </tr>\n",
       "    <tr>\n",
       "      <th>2</th>\n",
       "      <td>@swonderlin can not wait for #ipad 2 also. the...</td>\n",
       "      <td>iPad</td>\n",
       "      <td>Positive emotion</td>\n",
       "      <td>[swonderlin, can, not, wait, for, ipad, also, ...</td>\n",
       "    </tr>\n",
       "    <tr>\n",
       "      <th>3</th>\n",
       "      <td>@sxsw i hope this year's festival isn't as cra...</td>\n",
       "      <td>iPad or iPhone App</td>\n",
       "      <td>Negative emotion</td>\n",
       "      <td>[sxsw, hope, this, year, festival, isn, as, cr...</td>\n",
       "    </tr>\n",
       "    <tr>\n",
       "      <th>4</th>\n",
       "      <td>@sxtxstate great stuff on fri #sxsw: marissa m...</td>\n",
       "      <td>Google</td>\n",
       "      <td>Positive emotion</td>\n",
       "      <td>[sxtxstate, great, stuff, on, fri, sxsw, maris...</td>\n",
       "    </tr>\n",
       "    <tr>\n",
       "      <th>5</th>\n",
       "      <td>@teachntech00 new ipad apps for #speechtherapy...</td>\n",
       "      <td>Not Applicable</td>\n",
       "      <td>No emotion toward brand or product</td>\n",
       "      <td>[teachntech00, new, ipad, apps, for, speechthe...</td>\n",
       "    </tr>\n",
       "    <tr>\n",
       "      <th>7</th>\n",
       "      <td>#sxsw is just starting, #ctia is around the co...</td>\n",
       "      <td>Android</td>\n",
       "      <td>Positive emotion</td>\n",
       "      <td>[sxsw, is, just, starting, ctia, is, around, t...</td>\n",
       "    </tr>\n",
       "    <tr>\n",
       "      <th>8</th>\n",
       "      <td>beautifully smart and simple idea rt @madebyma...</td>\n",
       "      <td>iPad or iPhone App</td>\n",
       "      <td>Positive emotion</td>\n",
       "      <td>[beautifully, smart, and, simple, idea, rt, ma...</td>\n",
       "    </tr>\n",
       "    <tr>\n",
       "      <th>9</th>\n",
       "      <td>counting down the days to #sxsw plus strong ca...</td>\n",
       "      <td>Apple</td>\n",
       "      <td>Positive emotion</td>\n",
       "      <td>[counting, down, the, days, to, sxsw, plus, st...</td>\n",
       "    </tr>\n",
       "    <tr>\n",
       "      <th>10</th>\n",
       "      <td>excited to meet the @samsungmobileus at #sxsw ...</td>\n",
       "      <td>Android</td>\n",
       "      <td>Positive emotion</td>\n",
       "      <td>[excited, to, meet, the, samsungmobileus, at, ...</td>\n",
       "    </tr>\n",
       "  </tbody>\n",
       "</table>\n",
       "</div>"
      ],
      "text/plain": [
       "                                           tweet_text     product_service  \\\n",
       "0   .@wesley83 i have a 3g iphone. after 3 hrs twe...              iPhone   \n",
       "1   @jessedee know about @fludapp ? awesome ipad/i...  iPad or iPhone App   \n",
       "2   @swonderlin can not wait for #ipad 2 also. the...                iPad   \n",
       "3   @sxsw i hope this year's festival isn't as cra...  iPad or iPhone App   \n",
       "4   @sxtxstate great stuff on fri #sxsw: marissa m...              Google   \n",
       "5   @teachntech00 new ipad apps for #speechtherapy...      Not Applicable   \n",
       "7   #sxsw is just starting, #ctia is around the co...             Android   \n",
       "8   beautifully smart and simple idea rt @madebyma...  iPad or iPhone App   \n",
       "9   counting down the days to #sxsw plus strong ca...               Apple   \n",
       "10  excited to meet the @samsungmobileus at #sxsw ...             Android   \n",
       "\n",
       "                               emotion  \\\n",
       "0                     Negative emotion   \n",
       "1                     Positive emotion   \n",
       "2                     Positive emotion   \n",
       "3                     Negative emotion   \n",
       "4                     Positive emotion   \n",
       "5   No emotion toward brand or product   \n",
       "7                     Positive emotion   \n",
       "8                     Positive emotion   \n",
       "9                     Positive emotion   \n",
       "10                    Positive emotion   \n",
       "\n",
       "                                           text_token  \n",
       "0   [wesley83, have, 3g, iphone, after, hrs, tweet...  \n",
       "1   [jessedee, know, about, fludapp, awesome, ipad...  \n",
       "2   [swonderlin, can, not, wait, for, ipad, also, ...  \n",
       "3   [sxsw, hope, this, year, festival, isn, as, cr...  \n",
       "4   [sxtxstate, great, stuff, on, fri, sxsw, maris...  \n",
       "5   [teachntech00, new, ipad, apps, for, speechthe...  \n",
       "7   [sxsw, is, just, starting, ctia, is, around, t...  \n",
       "8   [beautifully, smart, and, simple, idea, rt, ma...  \n",
       "9   [counting, down, the, days, to, sxsw, plus, st...  \n",
       "10  [excited, to, meet, the, samsungmobileus, at, ...  "
      ]
     },
     "execution_count": 9,
     "metadata": {},
     "output_type": "execute_result"
    }
   ],
   "source": [
    "# Removing capiltalization\n",
    "df['tweet_text'] = df['tweet_text'].str.lower()\n",
    "\n",
    "#removing punctuations using the default pattern in sklearn and tokenizing\n",
    "basic_token_pattern = r\"(?u)\\b\\w\\w+\\b\"\n",
    "tokenizer = RegexpTokenizer(basic_token_pattern)\n",
    "\n",
    "#applying the tokenizer to the df\n",
    "\n",
    "df['text_token'] = df['tweet_text'].apply(tokenizer.tokenize)\n",
    "df.head(10)"
   ]
  },
  {
   "cell_type": "markdown",
   "metadata": {},
   "source": [
    "# What words are tweeted the most?"
   ]
  },
  {
   "cell_type": "markdown",
   "metadata": {},
   "source": [
    "***By answering this question, we can understand what customers are tweeting about. We can visualize this using a feature called WordCloud.***"
   ]
  },
  {
   "cell_type": "markdown",
   "metadata": {},
   "source": [
    "## Wordcloud"
   ]
  },
  {
   "cell_type": "code",
   "execution_count": 10,
   "metadata": {
    "scrolled": false
   },
   "outputs": [
    {
     "data": {
      "image/png": "[encoded data removed]",
      "text/plain": [
       "<Figure size 576x576 with 1 Axes>"
      ]
     },
     "metadata": {
      "needs_background": "light"
     },
     "output_type": "display_data"
    }
   ],
   "source": [
    "#importing the stopwords list to pass onto the WC generator\n",
    "stopwords_list = stopwords.words('english')\n",
    "stopwords_list.append('mention')\n",
    "\n",
    "#droppping null values\n",
    "df.dropna(inplace=True)\n",
    "\n",
    "#instantiate\n",
    "wc = WordCloud(background_color='white',\n",
    "               stopwords=stopwords_list,\n",
    "               height=1000,\n",
    "               width=1000,\n",
    "               )\n",
    "\n",
    "#for the wordcloud, we have to join all the text data into a single string \n",
    "text = \" \".join(df['tweet_text'])\n",
    "\n",
    "#generate the WC\n",
    "wc.generate(text)\n",
    "\n",
    "#plot the WC\n",
    "plt.figure(figsize=(8,8))\n",
    "plt.axis('off')\n",
    "plt.imshow(wc)\n",
    "plt.show()"
   ]
  },
  {
   "cell_type": "markdown",
   "metadata": {},
   "source": [
    "## FreqDist"
   ]
  },
  {
   "cell_type": "markdown",
   "metadata": {},
   "source": [
    "Let's use nltk's FreqDist class to get some numbers to gives us more clarity"
   ]
  },
  {
   "cell_type": "markdown",
   "metadata": {},
   "source": [
    "***Words like `a,as,the,for,that etc.` are used to make the sentence grammatically correct but give very little information about the contents of the text itself. Since they are most likely to occur a lot more than nouns and adjectives, they also distort our analysis and are hence best removed from the corpus for analysis.***"
   ]
  },
  {
   "cell_type": "code",
   "execution_count": 11,
   "metadata": {},
   "outputs": [],
   "source": [
    "#defining a function to remove stopwords\n",
    "def remove_stopwords(token_list):\n",
    "    stopwords_removed = [token for token in token_list if token not in stopwords_list]\n",
    "    return stopwords_removed\n",
    "\n",
    "#applying the function to the text_token column\n",
    "df['text_token'] = df['text_token'].apply(remove_stopwords)"
   ]
  },
  {
   "cell_type": "code",
   "execution_count": 12,
   "metadata": {},
   "outputs": [],
   "source": [
    "#defining a function to plot the top_25 most occuring words\n",
    "\n",
    "def plot_freq_dist(words):\n",
    "    freq_dist = FreqDist(df[words].explode())\n",
    "    # listing out the top 25 most occuring words and ther respective counts\n",
    "    top_25 = list(zip(*freq_dist.most_common(25)))\n",
    "\n",
    "    #creating a plot of the top_25 words\n",
    "    fig,ax=plt.subplots(figsize=(10,10))\n",
    "    ax.bar(top_25[0],top_25[1])\n",
    "    ax.set_title('Top 25 most occurring words')\n",
    "    ax.tick_params(axis='x', rotation=90)"
   ]
  },
  {
   "cell_type": "code",
   "execution_count": 13,
   "metadata": {},
   "outputs": [
    {
     "data": {
      "image/png": "[encoded data removed]",
      "text/plain": [
       "<Figure size 720x720 with 1 Axes>"
      ]
     },
     "metadata": {
      "needs_background": "light"
     },
     "output_type": "display_data"
    }
   ],
   "source": [
    "#plotting the freq_dist\n",
    "plot_freq_dist('text_token')"
   ]
  },
  {
   "cell_type": "markdown",
   "metadata": {},
   "source": [
    "***We can see from the above that the words `SXSW,Google,iPad` are some of the most tweeted words. A google search of `SXSW` reveals it to be arts and music festival held in Austin,TX. Hence, we can reasonably conclude that tweets collected for the analysis was from the city of Austin,TX and also coincided when the festival was running.***"
   ]
  },
  {
   "cell_type": "markdown",
   "metadata": {},
   "source": [
    "# Analyzing emotions for each product_service"
   ]
  },
  {
   "cell_type": "markdown",
   "metadata": {},
   "source": [
    "***This is to answer the first question : What are the emotional repsonses for each product_service category listed in the data? For eg: for the category 'Apple' how many positive,negative and neutral responses are there?***"
   ]
  },
  {
   "cell_type": "markdown",
   "metadata": {},
   "source": [
    "***By comparing the responses for each category, we can gage customer sentiment***"
   ]
  },
  {
   "cell_type": "code",
   "execution_count": 14,
   "metadata": {
    "scrolled": true
   },
   "outputs": [
    {
     "data": {
      "text/html": [
       "<div>\n",
       "<style scoped>\n",
       "    .dataframe tbody tr th:only-of-type {\n",
       "        vertical-align: middle;\n",
       "    }\n",
       "\n",
       "    .dataframe tbody tr th {\n",
       "        vertical-align: top;\n",
       "    }\n",
       "\n",
       "    .dataframe thead tr th {\n",
       "        text-align: left;\n",
       "    }\n",
       "\n",
       "    .dataframe thead tr:last-of-type th {\n",
       "        text-align: right;\n",
       "    }\n",
       "</style>\n",
       "<table border=\"1\" class=\"dataframe\">\n",
       "  <thead>\n",
       "    <tr>\n",
       "      <th></th>\n",
       "      <th colspan=\"4\" halign=\"left\">text_token</th>\n",
       "      <th colspan=\"4\" halign=\"left\">tweet_text</th>\n",
       "    </tr>\n",
       "    <tr>\n",
       "      <th>emotion</th>\n",
       "      <th>I can't tell</th>\n",
       "      <th>Negative emotion</th>\n",
       "      <th>No emotion toward brand or product</th>\n",
       "      <th>Positive emotion</th>\n",
       "      <th>I can't tell</th>\n",
       "      <th>Negative emotion</th>\n",
       "      <th>No emotion toward brand or product</th>\n",
       "      <th>Positive emotion</th>\n",
       "    </tr>\n",
       "    <tr>\n",
       "      <th>product_service</th>\n",
       "      <th></th>\n",
       "      <th></th>\n",
       "      <th></th>\n",
       "      <th></th>\n",
       "      <th></th>\n",
       "      <th></th>\n",
       "      <th></th>\n",
       "      <th></th>\n",
       "    </tr>\n",
       "  </thead>\n",
       "  <tbody>\n",
       "    <tr>\n",
       "      <th>Android</th>\n",
       "      <td>NaN</td>\n",
       "      <td>16.0</td>\n",
       "      <td>2.0</td>\n",
       "      <td>141.0</td>\n",
       "      <td>NaN</td>\n",
       "      <td>16.0</td>\n",
       "      <td>2.0</td>\n",
       "      <td>141.0</td>\n",
       "    </tr>\n",
       "    <tr>\n",
       "      <th>Apple</th>\n",
       "      <td>2.0</td>\n",
       "      <td>97.0</td>\n",
       "      <td>22.0</td>\n",
       "      <td>575.0</td>\n",
       "      <td>2.0</td>\n",
       "      <td>97.0</td>\n",
       "      <td>22.0</td>\n",
       "      <td>575.0</td>\n",
       "    </tr>\n",
       "    <tr>\n",
       "      <th>Google</th>\n",
       "      <td>2.0</td>\n",
       "      <td>115.0</td>\n",
       "      <td>24.0</td>\n",
       "      <td>582.0</td>\n",
       "      <td>2.0</td>\n",
       "      <td>115.0</td>\n",
       "      <td>24.0</td>\n",
       "      <td>582.0</td>\n",
       "    </tr>\n",
       "    <tr>\n",
       "      <th>Not Applicable</th>\n",
       "      <td>147.0</td>\n",
       "      <td>51.0</td>\n",
       "      <td>5297.0</td>\n",
       "      <td>306.0</td>\n",
       "      <td>147.0</td>\n",
       "      <td>51.0</td>\n",
       "      <td>5297.0</td>\n",
       "      <td>306.0</td>\n",
       "    </tr>\n",
       "    <tr>\n",
       "      <th>iPad</th>\n",
       "      <td>4.0</td>\n",
       "      <td>125.0</td>\n",
       "      <td>24.0</td>\n",
       "      <td>793.0</td>\n",
       "      <td>4.0</td>\n",
       "      <td>125.0</td>\n",
       "      <td>24.0</td>\n",
       "      <td>793.0</td>\n",
       "    </tr>\n",
       "    <tr>\n",
       "      <th>iPad or iPhone App</th>\n",
       "      <td>NaN</td>\n",
       "      <td>63.0</td>\n",
       "      <td>10.0</td>\n",
       "      <td>397.0</td>\n",
       "      <td>NaN</td>\n",
       "      <td>63.0</td>\n",
       "      <td>10.0</td>\n",
       "      <td>397.0</td>\n",
       "    </tr>\n",
       "    <tr>\n",
       "      <th>iPhone</th>\n",
       "      <td>1.0</td>\n",
       "      <td>103.0</td>\n",
       "      <td>9.0</td>\n",
       "      <td>184.0</td>\n",
       "      <td>1.0</td>\n",
       "      <td>103.0</td>\n",
       "      <td>9.0</td>\n",
       "      <td>184.0</td>\n",
       "    </tr>\n",
       "  </tbody>\n",
       "</table>\n",
       "</div>"
      ],
      "text/plain": [
       "                     text_token                   \\\n",
       "emotion            I can't tell Negative emotion   \n",
       "product_service                                    \n",
       "Android                     NaN             16.0   \n",
       "Apple                       2.0             97.0   \n",
       "Google                      2.0            115.0   \n",
       "Not Applicable            147.0             51.0   \n",
       "iPad                        4.0            125.0   \n",
       "iPad or iPhone App          NaN             63.0   \n",
       "iPhone                      1.0            103.0   \n",
       "\n",
       "                                                                        \\\n",
       "emotion            No emotion toward brand or product Positive emotion   \n",
       "product_service                                                          \n",
       "Android                                           2.0            141.0   \n",
       "Apple                                            22.0            575.0   \n",
       "Google                                           24.0            582.0   \n",
       "Not Applicable                                 5297.0            306.0   \n",
       "iPad                                             24.0            793.0   \n",
       "iPad or iPhone App                               10.0            397.0   \n",
       "iPhone                                            9.0            184.0   \n",
       "\n",
       "                     tweet_text                   \\\n",
       "emotion            I can't tell Negative emotion   \n",
       "product_service                                    \n",
       "Android                     NaN             16.0   \n",
       "Apple                       2.0             97.0   \n",
       "Google                      2.0            115.0   \n",
       "Not Applicable            147.0             51.0   \n",
       "iPad                        4.0            125.0   \n",
       "iPad or iPhone App          NaN             63.0   \n",
       "iPhone                      1.0            103.0   \n",
       "\n",
       "                                                                        \n",
       "emotion            No emotion toward brand or product Positive emotion  \n",
       "product_service                                                         \n",
       "Android                                           2.0            141.0  \n",
       "Apple                                            22.0            575.0  \n",
       "Google                                           24.0            582.0  \n",
       "Not Applicable                                 5297.0            306.0  \n",
       "iPad                                             24.0            793.0  \n",
       "iPad or iPhone App                               10.0            397.0  \n",
       "iPhone                                            9.0            184.0  "
      ]
     },
     "execution_count": 14,
     "metadata": {},
     "output_type": "execute_result"
    }
   ],
   "source": [
    "#creating a pivot table to organize the data\n",
    "\n",
    "df_pivot = df.pivot_table(index='product_service',aggfunc='count',columns='emotion')\n",
    "df_pivot"
   ]
  },
  {
   "cell_type": "code",
   "execution_count": 15,
   "metadata": {},
   "outputs": [
    {
     "name": "stdout",
     "output_type": "stream",
     "text": [
      "<class 'pandas.core.frame.DataFrame'>\n",
      "Index: 7 entries, Android to iPhone\n",
      "Data columns (total 8 columns):\n",
      " #   Column                                            Non-Null Count  Dtype  \n",
      "---  ------                                            --------------  -----  \n",
      " 0   (text_token, I can't tell)                        5 non-null      float64\n",
      " 1   (text_token, Negative emotion)                    7 non-null      float64\n",
      " 2   (text_token, No emotion toward brand or product)  7 non-null      float64\n",
      " 3   (text_token, Positive emotion)                    7 non-null      float64\n",
      " 4   (tweet_text, I can't tell)                        5 non-null      float64\n",
      " 5   (tweet_text, Negative emotion)                    7 non-null      float64\n",
      " 6   (tweet_text, No emotion toward brand or product)  7 non-null      float64\n",
      " 7   (tweet_text, Positive emotion)                    7 non-null      float64\n",
      "dtypes: float64(8)\n",
      "memory usage: 504.0+ bytes\n"
     ]
    }
   ],
   "source": [
    "df_pivot.info()"
   ]
  },
  {
   "cell_type": "markdown",
   "metadata": {},
   "source": [
    "***Since the `text_column` is not relevant right now, let's remove it.***"
   ]
  },
  {
   "cell_type": "code",
   "execution_count": 16,
   "metadata": {},
   "outputs": [],
   "source": [
    "#dropping the columns\n",
    "df_pivot.drop(df_pivot.columns[[0,1,2,3]],axis=1,inplace=True)"
   ]
  },
  {
   "cell_type": "markdown",
   "metadata": {},
   "source": [
    "***Since the columns are tuples, let's rename them for better understanding.***"
   ]
  },
  {
   "cell_type": "code",
   "execution_count": 17,
   "metadata": {
    "scrolled": true
   },
   "outputs": [
    {
     "data": {
      "text/html": [
       "<div>\n",
       "<style scoped>\n",
       "    .dataframe tbody tr th:only-of-type {\n",
       "        vertical-align: middle;\n",
       "    }\n",
       "\n",
       "    .dataframe tbody tr th {\n",
       "        vertical-align: top;\n",
       "    }\n",
       "\n",
       "    .dataframe thead th {\n",
       "        text-align: right;\n",
       "    }\n",
       "</style>\n",
       "<table border=\"1\" class=\"dataframe\">\n",
       "  <thead>\n",
       "    <tr style=\"text-align: right;\">\n",
       "      <th></th>\n",
       "      <th>I can't tell</th>\n",
       "      <th>Negative emotion</th>\n",
       "      <th>No emotion toward brand or product</th>\n",
       "      <th>Positive emotion</th>\n",
       "    </tr>\n",
       "    <tr>\n",
       "      <th>product_service</th>\n",
       "      <th></th>\n",
       "      <th></th>\n",
       "      <th></th>\n",
       "      <th></th>\n",
       "    </tr>\n",
       "  </thead>\n",
       "  <tbody>\n",
       "    <tr>\n",
       "      <th>Android</th>\n",
       "      <td>NaN</td>\n",
       "      <td>16.0</td>\n",
       "      <td>2.0</td>\n",
       "      <td>141.0</td>\n",
       "    </tr>\n",
       "    <tr>\n",
       "      <th>Apple</th>\n",
       "      <td>2.0</td>\n",
       "      <td>97.0</td>\n",
       "      <td>22.0</td>\n",
       "      <td>575.0</td>\n",
       "    </tr>\n",
       "    <tr>\n",
       "      <th>Google</th>\n",
       "      <td>2.0</td>\n",
       "      <td>115.0</td>\n",
       "      <td>24.0</td>\n",
       "      <td>582.0</td>\n",
       "    </tr>\n",
       "    <tr>\n",
       "      <th>Not Applicable</th>\n",
       "      <td>147.0</td>\n",
       "      <td>51.0</td>\n",
       "      <td>5297.0</td>\n",
       "      <td>306.0</td>\n",
       "    </tr>\n",
       "    <tr>\n",
       "      <th>iPad</th>\n",
       "      <td>4.0</td>\n",
       "      <td>125.0</td>\n",
       "      <td>24.0</td>\n",
       "      <td>793.0</td>\n",
       "    </tr>\n",
       "    <tr>\n",
       "      <th>iPad or iPhone App</th>\n",
       "      <td>NaN</td>\n",
       "      <td>63.0</td>\n",
       "      <td>10.0</td>\n",
       "      <td>397.0</td>\n",
       "    </tr>\n",
       "    <tr>\n",
       "      <th>iPhone</th>\n",
       "      <td>1.0</td>\n",
       "      <td>103.0</td>\n",
       "      <td>9.0</td>\n",
       "      <td>184.0</td>\n",
       "    </tr>\n",
       "  </tbody>\n",
       "</table>\n",
       "</div>"
      ],
      "text/plain": [
       "                    I can't tell  Negative emotion  \\\n",
       "product_service                                      \n",
       "Android                      NaN              16.0   \n",
       "Apple                        2.0              97.0   \n",
       "Google                       2.0             115.0   \n",
       "Not Applicable             147.0              51.0   \n",
       "iPad                         4.0             125.0   \n",
       "iPad or iPhone App           NaN              63.0   \n",
       "iPhone                       1.0             103.0   \n",
       "\n",
       "                    No emotion toward brand or product  Positive emotion  \n",
       "product_service                                                           \n",
       "Android                                            2.0             141.0  \n",
       "Apple                                             22.0             575.0  \n",
       "Google                                            24.0             582.0  \n",
       "Not Applicable                                  5297.0             306.0  \n",
       "iPad                                              24.0             793.0  \n",
       "iPad or iPhone App                                10.0             397.0  \n",
       "iPhone                                             9.0             184.0  "
      ]
     },
     "execution_count": 17,
     "metadata": {},
     "output_type": "execute_result"
    }
   ],
   "source": [
    "#renaming the columns\n",
    "df_pivot.columns = [\"I can't tell\",'Negative emotion','No emotion toward brand or product', 'Positive emotion']\n",
    "df_pivot"
   ]
  },
  {
   "cell_type": "code",
   "execution_count": 18,
   "metadata": {
    "scrolled": true
   },
   "outputs": [
    {
     "data": {
      "text/html": [
       "<div>\n",
       "<style scoped>\n",
       "    .dataframe tbody tr th:only-of-type {\n",
       "        vertical-align: middle;\n",
       "    }\n",
       "\n",
       "    .dataframe tbody tr th {\n",
       "        vertical-align: top;\n",
       "    }\n",
       "\n",
       "    .dataframe thead th {\n",
       "        text-align: right;\n",
       "    }\n",
       "</style>\n",
       "<table border=\"1\" class=\"dataframe\">\n",
       "  <thead>\n",
       "    <tr style=\"text-align: right;\">\n",
       "      <th></th>\n",
       "      <th>Positive emotion</th>\n",
       "      <th>Negative emotion</th>\n",
       "      <th>No emotion toward brand or product</th>\n",
       "      <th>I can't tell</th>\n",
       "    </tr>\n",
       "    <tr>\n",
       "      <th>product_service</th>\n",
       "      <th></th>\n",
       "      <th></th>\n",
       "      <th></th>\n",
       "      <th></th>\n",
       "    </tr>\n",
       "  </thead>\n",
       "  <tbody>\n",
       "    <tr>\n",
       "      <th>iPad</th>\n",
       "      <td>793.0</td>\n",
       "      <td>125.0</td>\n",
       "      <td>24.0</td>\n",
       "      <td>4.0</td>\n",
       "    </tr>\n",
       "    <tr>\n",
       "      <th>Google</th>\n",
       "      <td>582.0</td>\n",
       "      <td>115.0</td>\n",
       "      <td>24.0</td>\n",
       "      <td>2.0</td>\n",
       "    </tr>\n",
       "    <tr>\n",
       "      <th>Apple</th>\n",
       "      <td>575.0</td>\n",
       "      <td>97.0</td>\n",
       "      <td>22.0</td>\n",
       "      <td>2.0</td>\n",
       "    </tr>\n",
       "    <tr>\n",
       "      <th>iPad or iPhone App</th>\n",
       "      <td>397.0</td>\n",
       "      <td>63.0</td>\n",
       "      <td>10.0</td>\n",
       "      <td>NaN</td>\n",
       "    </tr>\n",
       "    <tr>\n",
       "      <th>iPhone</th>\n",
       "      <td>184.0</td>\n",
       "      <td>103.0</td>\n",
       "      <td>9.0</td>\n",
       "      <td>1.0</td>\n",
       "    </tr>\n",
       "    <tr>\n",
       "      <th>Android</th>\n",
       "      <td>141.0</td>\n",
       "      <td>16.0</td>\n",
       "      <td>2.0</td>\n",
       "      <td>NaN</td>\n",
       "    </tr>\n",
       "  </tbody>\n",
       "</table>\n",
       "</div>"
      ],
      "text/plain": [
       "                    Positive emotion  Negative emotion  \\\n",
       "product_service                                          \n",
       "iPad                           793.0             125.0   \n",
       "Google                         582.0             115.0   \n",
       "Apple                          575.0              97.0   \n",
       "iPad or iPhone App             397.0              63.0   \n",
       "iPhone                         184.0             103.0   \n",
       "Android                        141.0              16.0   \n",
       "\n",
       "                    No emotion toward brand or product  I can't tell  \n",
       "product_service                                                       \n",
       "iPad                                              24.0           4.0  \n",
       "Google                                            24.0           2.0  \n",
       "Apple                                             22.0           2.0  \n",
       "iPad or iPhone App                                10.0           NaN  \n",
       "iPhone                                             9.0           1.0  \n",
       "Android                                            2.0           NaN  "
      ]
     },
     "execution_count": 18,
     "metadata": {},
     "output_type": "execute_result"
    }
   ],
   "source": [
    "#dropping 'Not Applicable' since it is not relevant here\n",
    "df_pivot.drop('Not Applicable',axis=0,inplace=True)\n",
    "\n",
    "#rearranging the columns for better visualization\n",
    "df_pivot=df_pivot[['Positive emotion','Negative emotion', 'No emotion toward brand or product', \"I can't tell\"]]\n",
    "\n",
    "#sorting the values for better visuzalization\n",
    "df_pivot.sort_values('Positive emotion',ascending=False,inplace=True)\n",
    "\n",
    "df_pivot"
   ]
  },
  {
   "cell_type": "markdown",
   "metadata": {},
   "source": [
    "***Now that we've formatted the table to our liking, let's plot a bar chart see the different emotions for each product. This will give us an idea about how customers feel about each product***"
   ]
  },
  {
   "cell_type": "code",
   "execution_count": 19,
   "metadata": {
    "scrolled": false
   },
   "outputs": [
    {
     "data": {
      "image/png": "[encoded data removed]",
      "text/plain": [
       "<Figure size 1008x504 with 1 Axes>"
      ]
     },
     "metadata": {
      "needs_background": "light"
     },
     "output_type": "display_data"
    }
   ],
   "source": [
    "# bar chart listing emotion class for each product_service \n",
    "\n",
    "df_pivot.plot(kind='bar',figsize=(14,7));\n",
    "plt.title('Emotions for each product/service');\n",
    "plt.ylabel('number of tweets for each emotion class',fontsize=14);\n",
    "plt.xlabel('product/service',fontsize=14);"
   ]
  },
  {
   "cell_type": "markdown",
   "metadata": {},
   "source": [
    "***We have a clear winner in iPad! i.e. the iPad is the most popular product among customers and Android the least. We can also that the number of negative tweets seem to be somewhat level across all products except for Android.***"
   ]
  },
  {
   "cell_type": "markdown",
   "metadata": {},
   "source": [
    "# What do customers like about a product_service?"
   ]
  },
  {
   "cell_type": "markdown",
   "metadata": {},
   "source": [
    "***Here, we are looking to answer the second question.We can do this by breaking down each product_service and the different emotions to see if there are any key words that stand out. For eg: we can list out tweets by positive and negative emotions for iPad and analyze separately to gage sentiment.***"
   ]
  },
  {
   "cell_type": "code",
   "execution_count": 20,
   "metadata": {},
   "outputs": [],
   "source": [
    "#updating stopwords list to include SXSW since it appears nearly 10,000 times\n",
    "stopwords_list.append('SXSW')"
   ]
  },
  {
   "cell_type": "markdown",
   "metadata": {},
   "source": [
    "***Let's define some functions to make things easier.***"
   ]
  },
  {
   "cell_type": "markdown",
   "metadata": {},
   "source": [
    "***Function to get only positive tweets***"
   ]
  },
  {
   "cell_type": "code",
   "execution_count": 21,
   "metadata": {},
   "outputs": [],
   "source": [
    "def get_positive(df,category,emotion):\n",
    "    positive_df = df.loc[(df['product_service']==category) & (df['emotion']=='Positive emotion')]\n",
    "    return positive_df        "
   ]
  },
  {
   "cell_type": "markdown",
   "metadata": {},
   "source": [
    "***Function to get only negative tweets***"
   ]
  },
  {
   "cell_type": "code",
   "execution_count": 22,
   "metadata": {},
   "outputs": [],
   "source": [
    "def get_negative(df,category,emotion):\n",
    "    negative_df=df.loc[(df['product_service']==category) & (df['emotion']=='Negative emotion')]\n",
    "    return negative_df\n",
    "        "
   ]
  },
  {
   "cell_type": "code",
   "execution_count": 23,
   "metadata": {},
   "outputs": [],
   "source": [
    "#define a function to generate worclouds for a category\n",
    "\n",
    "# def wordcloud_gen(df,category):\n",
    "#     pos=get_positive(df,category,'Positive emotion')\n",
    "#     neg=get_negative(df,category,'Negative emotion')\n",
    "#     product = category\n",
    "#     wordcloud=[]\n",
    "#     for i in [pos, neg]:\n",
    "#         #instantiate\n",
    "#         wc = WordCloud(background_color='white',\n",
    "#                            stopwords=stopwords_list,\n",
    "#                            height=1000,\n",
    "#                            width=1000,\n",
    "#                            )\n",
    "#         #for the wordcloud, we have to join all the text data into a single string \n",
    "#         text = \" \".join(i['tweet_text'])\n",
    "#         #generate the WC\n",
    "#         wordcloud.append(wc.generate(text))\n",
    "#     #plot the WC\n",
    "#     fig,(ax1,ax2) = plt.subplots(1,2,figsize=(15,10))\n",
    "#     font = {'fontsize':20}\n",
    "#     ax1.imshow(wordcloud[0])\n",
    "#     ax1.axis('off')\n",
    "#     ax1.set_title(f'Positive emotions:{product}',fontdict=font);\n",
    "#     ax2.imshow(wordcloud[1])\n",
    "#     ax2.axis('off')\n",
    "#     ax2.set_title(f'Negative emotions:{product}',fontdict=font);\n"
   ]
  },
  {
   "cell_type": "markdown",
   "metadata": {},
   "source": [
    "***Function to generate Wordclouds for positive and negative tweets***"
   ]
  },
  {
   "cell_type": "code",
   "execution_count": 24,
   "metadata": {},
   "outputs": [],
   "source": [
    "def wordcloud_gen(df,category):\n",
    "    pos=get_positive(df,category,'Positive emotion')\n",
    "    neg=get_negative(df,category,'Negative emotion')\n",
    "    product = category # for use in the heading of the wordcloud\n",
    "\n",
    "    #instantiate wordclouds\n",
    "    wc1 = WordCloud(background_color='white',   #positive wc\n",
    "               stopwords=stopwords_list,\n",
    "               height=1000,\n",
    "               width=1000,\n",
    "               )\n",
    "    wc2 = WordCloud(background_color='black',   #negative wc\n",
    "               stopwords=stopwords_list,\n",
    "               height=1000,\n",
    "               width=1000,\n",
    "               )\n",
    "\n",
    "#for the wordcloud, we have to join all the text data into a single string \n",
    "    text1 = \" \".join(pos['tweet_text']) #positive\n",
    "    text2 = \" \".join(neg['tweet_text']) #negative\n",
    "\n",
    "#generate the WC\n",
    "    wc1.generate(text1) #positive\n",
    "    wc2.generate(text2) #negative\n",
    "\n",
    "#plot the WC\n",
    "    fig,(ax1,ax2) = plt.subplots(1,2,figsize=(15,10))\n",
    "    font = {'fontsize':20}\n",
    "    ax1.imshow(wc1) #positve\n",
    "    ax1.axis('off')\n",
    "    ax1.set_title(f'Positive emotions:{product}',fontdict=font);\n",
    "    ax2.imshow(wc2) #negative\n",
    "    ax2.axis('off')\n",
    "    ax2.set_title(f'Negative emotions:{product}',fontdict=font);"
   ]
  },
  {
   "cell_type": "markdown",
   "metadata": {},
   "source": [
    "## Wordcloud for positive and negative emotions of Ipad"
   ]
  },
  {
   "cell_type": "code",
   "execution_count": null,
   "metadata": {
    "scrolled": false
   },
   "outputs": [],
   "source": [
    "wordcloud_gen(df,'iPad')"
   ]
  },
  {
   "cell_type": "markdown",
   "metadata": {},
   "source": [
    "***From the negative emotions, we can see `design headaches, iPad design,money,back button` are some of the words that feature prominently thus illustrating displeasure of the users regarding some of the features of the `iPad`. `iPad2` is also mentioned quite a lot.***"
   ]
  },
  {
   "cell_type": "markdown",
   "metadata": {},
   "source": [
    "##  Wordcloud for positive and negative emotions of Apple"
   ]
  },
  {
   "cell_type": "code",
   "execution_count": null,
   "metadata": {},
   "outputs": [],
   "source": [
    "wordcloud_gen(df,'Apple')"
   ]
  },
  {
   "cell_type": "markdown",
   "metadata": {},
   "source": [
    "***Sentiment against Apple seems to be quite severe given the high number of tweets featuring the word `fascist`!***"
   ]
  },
  {
   "cell_type": "markdown",
   "metadata": {},
   "source": [
    "## Wordcloud for positive and negative emotions of iPhone"
   ]
  },
  {
   "cell_type": "code",
   "execution_count": null,
   "metadata": {
    "scrolled": false
   },
   "outputs": [],
   "source": [
    "wordcloud_gen(df,'iPhone')"
   ]
  },
  {
   "cell_type": "markdown",
   "metadata": {},
   "source": [
    "***From positive emotions, `verizon` stands out suggesting their superiority from the other carriers. `iphone battery,battery` from the negative emotions illustrate unequivocally where the problem lies with the iPhone.***"
   ]
  },
  {
   "cell_type": "markdown",
   "metadata": {},
   "source": [
    "## Wordcloud for positive and negative emotions of Ipad and iPhone apps"
   ]
  },
  {
   "cell_type": "code",
   "execution_count": null,
   "metadata": {},
   "outputs": [],
   "source": [
    "wordcloud_gen(df,'iPad or iPhone App')"
   ]
  },
  {
   "cell_type": "markdown",
   "metadata": {},
   "source": [
    "## Wordcloud for positive and negative emotions of Google"
   ]
  },
  {
   "cell_type": "code",
   "execution_count": null,
   "metadata": {
    "scrolled": true
   },
   "outputs": [],
   "source": [
    "wordcloud_gen(df,'Google')"
   ]
  },
  {
   "cell_type": "markdown",
   "metadata": {},
   "source": [
    "***`google maps` seems to be equally represented in both positive and negative tweets. Some people like it and some don't.\n",
    "Same thing with `social network`. How that ties in with `google` needs some more exploration.***"
   ]
  },
  {
   "cell_type": "markdown",
   "metadata": {},
   "source": [
    "## Wordcloud for positive and negative emotions of Android"
   ]
  },
  {
   "cell_type": "code",
   "execution_count": null,
   "metadata": {
    "scrolled": true
   },
   "outputs": [],
   "source": [
    "wordcloud_gen(df,'Android')"
   ]
  },
  {
   "cell_type": "markdown",
   "metadata": {},
   "source": [
    "***The words `awards,wins best` from the positve tweets maybe point towards someone from the festival winning or an app on the Android platform winning some award! `Samsung` pops up in negative tweets suggesting issues with apps running on Samsung phones.***"
   ]
  },
  {
   "cell_type": "markdown",
   "metadata": {},
   "source": [
    "# Model to predict product_service from tweets"
   ]
  },
  {
   "cell_type": "code",
   "execution_count": null,
   "metadata": {
    "scrolled": true
   },
   "outputs": [],
   "source": [
    "df['product_service'].value_counts()"
   ]
  },
  {
   "cell_type": "markdown",
   "metadata": {},
   "source": [
    "***Let's make this a bibary classification problem i.e. we will group all Apple and Google products together for ease of modelling.***"
   ]
  },
  {
   "cell_type": "code",
   "execution_count": null,
   "metadata": {},
   "outputs": [],
   "source": [
    "#let's group product/services that resemble each other for both brands. This will make for easier analysis\n",
    "\n",
    "df['product_service'].replace('Android','Google',inplace=True)\n",
    "df['product_service'].replace(['iPhone','iPad','iPad or iPhone App'],'Apple',inplace=True)\n",
    "\n",
    "#checking \n",
    "df['product_service'].value_counts()"
   ]
  },
  {
   "cell_type": "code",
   "execution_count": null,
   "metadata": {
    "scrolled": true
   },
   "outputs": [],
   "source": [
    "# creating target values for product_service\n",
    "new_map = {'Not Applicable':0,\n",
    "          'Apple':1,\n",
    "          'Google':2}\n",
    "\n",
    "df['target'] = df['product_service'].map(new_map)\n",
    "df.head()"
   ]
  },
  {
   "cell_type": "markdown",
   "metadata": {},
   "source": [
    "## Building baseline models using CountVectorizer"
   ]
  },
  {
   "cell_type": "code",
   "execution_count": null,
   "metadata": {},
   "outputs": [],
   "source": [
    "#setting up X,y train and test sets\n",
    "X= df['text_token']\n",
    "y = df['target']\n",
    "\n",
    "X_train,X_test,y_train,y_test = train_test_split(X,y,random_state=123)\n",
    "\n",
    "#use the default pattern in sklearn for tokenizing\n",
    "# basic_token_pattern = r\"(?u)\\b\\w\\w+\\b\""
   ]
  },
  {
   "cell_type": "code",
   "execution_count": null,
   "metadata": {},
   "outputs": [],
   "source": [
    "def dummy(doc):\n",
    "    return doc"
   ]
  },
  {
   "cell_type": "code",
   "execution_count": null,
   "metadata": {},
   "outputs": [],
   "source": [
    "# building a pipeline of LogisticRegression, Naive-Bayes, SVM and RandomForest models\n",
    "\n",
    "# instantiate all the models\n",
    "\n",
    "pipe_lr = Pipeline([('vectrorizer',CountVectorizer(stop_words=stopwords_list,preprocessor=dummy,tokenizer=dummy)),\n",
    "                    ('model',LogisticRegression(random_state=123))\n",
    "                   ])\n",
    "\n",
    "pipe_nb = Pipeline([('vectrorizer',CountVectorizer(stop_words=stopwords_list,preprocessor=dummy,tokenizer=dummy)),\n",
    "                    ('model',MultinomialNB())\n",
    "                    ])\n",
    "\n",
    "pipe_rf = Pipeline([('vectrorizer',CountVectorizer(stop_words=stopwords_list,preprocessor=dummy,tokenizer=dummy)),\n",
    "                    ('model',RandomForestClassifier(random_state=123))\n",
    "                    ])\n",
    "\n",
    "pipe_svm = Pipeline([('vectrorizer',CountVectorizer(stop_words=stopwords_list,preprocessor=dummy,tokenizer=dummy)),\n",
    "                    ('model',svm.SVC(random_state=123))\n",
    "                    ])\n",
    "\n",
    "#setting up names for the classification report\n",
    "names_dict = dict(df['product_service'].value_counts())\n",
    "names = [name for name in names_dict]\n",
    "\n",
    "#build a list of tuples to build a df\n",
    "models=['LogReg', 'MultiNB', 'RForest', 'SVM']\n",
    "f1 = []\n",
    "\n",
    "#fitting the models on the train sets\n",
    "pipelines = [pipe_lr,pipe_nb,pipe_rf,pipe_svm]\n",
    "\n",
    "for pipe in pipelines:\n",
    "    pipe.fit(X_train,y_train)\n",
    "    predictions = pipe.predict((X_test))\n",
    "#     print(pipe)\n",
    "#     print(classification_report(y_test,predictions,target_names=names))\n",
    "    f1.append(f1_score(y_test,predictions,average='macro'))\n",
    "    \n",
    "#building a df of the f1_scores\n",
    "scores = list(zip(models,f1))\n",
    "scores_df = pd.DataFrame(data=scores,columns=['model','f1_score_cv'])"
   ]
  },
  {
   "cell_type": "markdown",
   "metadata": {},
   "source": [
    "## Building baseline models using Tf-idf Vectorizer"
   ]
  },
  {
   "cell_type": "code",
   "execution_count": null,
   "metadata": {},
   "outputs": [],
   "source": [
    "# repeating the same processes as above\n",
    "pipe_lr = Pipeline([('vectrorizer',TfidfVectorizer(stop_words=stopwords_list,preprocessor=dummy,tokenizer=dummy)),\n",
    "                    ('model',LogisticRegression(random_state=123))\n",
    "                   ])\n",
    "\n",
    "pipe_nb = Pipeline([('vectrorizer',TfidfVectorizer(stop_words=stopwords_list,preprocessor=dummy,tokenizer=dummy)),\n",
    "                    ('model',MultinomialNB())\n",
    "                    ])\n",
    "\n",
    "pipe_rf = Pipeline([('vectrorizer',TfidfVectorizer(stop_words=stopwords_list,preprocessor=dummy,tokenizer=dummy)),\n",
    "                    ('model',RandomForestClassifier(random_state=123))\n",
    "                    ])\n",
    "\n",
    "pipe_svm = Pipeline([('vectrorizer',TfidfVectorizer(stop_words=stopwords_list,preprocessor=dummy,tokenizer=dummy)),\n",
    "                    ('model',svm.SVC(random_state=123))\n",
    "                    ])\n",
    "\n",
    "#setting up names for the classification report\n",
    "names_dict = dict(df['product_service'].value_counts())\n",
    "names = [name for name in names_dict]\n",
    "\n",
    "#build a list of tuples to build a df\n",
    "models=['LogReg', 'MultiNB', 'RForest', 'SVM']\n",
    "f1 = []\n",
    "\n",
    "#fitting the models on the train sets\n",
    "pipelines = [pipe_lr,pipe_nb,pipe_rf,pipe_svm]\n",
    "\n",
    "for pipe in pipelines:\n",
    "    pipe.fit(X_train,y_train)\n",
    "    predictions = pipe.predict((X_test))\n",
    "#     print(pipe)\n",
    "#     print(classification_report(y_test,predictions,target_names=names))\n",
    "    f1.append(f1_score(y_test,predictions,average='macro'))\n",
    "    \n",
    "#adding the tf f1-scores to the scores_df\n",
    "scores_df['f1_score_tf'] = f1"
   ]
  },
  {
   "cell_type": "markdown",
   "metadata": {},
   "source": [
    "## Building baseline models using Word2Vec"
   ]
  },
  {
   "cell_type": "code",
   "execution_count": null,
   "metadata": {},
   "outputs": [],
   "source": []
  },
  {
   "cell_type": "code",
   "execution_count": null,
   "metadata": {
    "scrolled": true
   },
   "outputs": [],
   "source": [
    "#visualizing the f1-scores of all the models for the two vectorizers\n",
    "\n",
    "fig,ax = plt.subplots(figsize=(10,7))\n",
    "scores_df.plot(kind='bar',ax=ax);\n",
    "ax.set_xticklabels(models,rotation=45);\n",
    "ax.set_title('f1-scores');\n"
   ]
  },
  {
   "cell_type": "markdown",
   "metadata": {},
   "source": [
    "Since the LogisticRegression model with the CountVectorizer has the highest f1-score among all models, let's use that for optimizations"
   ]
  },
  {
   "cell_type": "markdown",
   "metadata": {},
   "source": [
    "# LogisticRegression with Countvectorizer"
   ]
  },
  {
   "cell_type": "markdown",
   "metadata": {},
   "source": [
    "Let's get some more information of model performance"
   ]
  },
  {
   "cell_type": "code",
   "execution_count": null,
   "metadata": {
    "scrolled": false
   },
   "outputs": [],
   "source": [
    "lr_pipe = Pipeline([('vectrorizer',CountVectorizer(stop_words=stopwords_list,preprocessor=dummy,tokenizer=dummy)),\n",
    "                    ('model',LogisticRegression(random_state=123))\n",
    "                   ])\n",
    "\n",
    "lr_pipe.fit(X_train,y_train)\n",
    "predictions=lr_pipe.predict(X_test)\n",
    "print(classification_report(y_test,predictions,target_names=names))\n",
    "fig,ax=plt.subplots(figsize=(10,10))\n",
    "plot_confusion_matrix(lr_pipe,X_test,y_test,display_labels=names,ax=ax,xticks_rotation='vertical');"
   ]
  },
  {
   "cell_type": "markdown",
   "metadata": {},
   "source": [
    "## min_df and max_df values"
   ]
  },
  {
   "cell_type": "code",
   "execution_count": null,
   "metadata": {
    "scrolled": false
   },
   "outputs": [],
   "source": [
    "# setting a range for min_df and max_df\n",
    "min_df_value = np.arange(1,5) # words than appear less than the min_df value in all docs will be eliminated\n",
    "max_df_value = np.arange(2000,2005) # words than appear more than the max_df value in all docs will be eliminated\n",
    "\n",
    "#initiating lists to use for plotting\n",
    "f_score = []\n",
    "min_value=[]\n",
    "max_value=[]\n",
    "\n",
    "#setting up the loop for min_df and max_df values\n",
    "for i in min_df_value:\n",
    "    for j in max_df_value:\n",
    "        min_value.append(i)\n",
    "        max_value.append(j)\n",
    "        #instantiate pipeline\n",
    "        new_pipe = Pipeline([('vectrorizer',CountVectorizer(stop_words=stopwords_list,min_df=i,max_df=j,preprocessor=dummy,tokenizer=dummy)),\n",
    "                                   ('model',LogisticRegression())\n",
    "                                   ])\n",
    "        new_pipe.fit(X_train,y_train)\n",
    "        preds = new_pipe.predict(X_test)\n",
    "\n",
    "        #getting f1 score\n",
    "        score = round(f1_score(y_test,preds,average='macro'),3)\n",
    "        f_score.append(score)\n",
    "#         print(f'min_df = {i}, max_df = {j}, f1_score={score}')\n",
    "\n",
    "#visualizing the accuracy score for the different combinations\n",
    "d = list(zip(min_value,max_value))\n",
    "fig,ax=plt.subplots(figsize=(15,5))\n",
    "ax.plot(f_score,marker='o',markerfacecolor='r',ls='--');\n",
    "# ax.set_xticklabels(d);\n",
    "ax.set_title('F1 Score of the Logistic Regression Model with CountVectorizer');"
   ]
  },
  {
   "cell_type": "markdown",
   "metadata": {},
   "source": [
    "## n-gram"
   ]
  },
  {
   "cell_type": "markdown",
   "metadata": {},
   "source": [
    "Since the changing the min_df and max_df values, made the model performance worse, let's try changing the n-gram parameter"
   ]
  },
  {
   "cell_type": "code",
   "execution_count": null,
   "metadata": {},
   "outputs": [],
   "source": [
    "lr_pipe = Pipeline([('vectrorizer',CountVectorizer(stop_words=stopwords_list,preprocessor=dummy,tokenizer=dummy,\n",
    "                                                  ngram_range=(1,2),min_df=1,max_df=2000)),\n",
    "                    ('model',LogisticRegression(random_state=123))\n",
    "                   ])\n",
    "\n",
    "lr_pipe.fit(X_train,y_train)\n",
    "predictions=lr_pipe.predict(X_test)\n",
    "print(classification_report(y_test,predictions,target_names=names))\n",
    "# fig,ax=plt.subplots(figsize=(10,10))\n",
    "# plot_confusion_matrix(lr_pipe,X_test,y_test,display_labels=names,ax=ax,xticks_rotation='vertical');"
   ]
  },
  {
   "cell_type": "markdown",
   "metadata": {},
   "source": [
    "We can see that there is no disceernible change in model performance"
   ]
  },
  {
   "cell_type": "markdown",
   "metadata": {},
   "source": [
    "## Stemming using PorterStemmer"
   ]
  },
  {
   "cell_type": "code",
   "execution_count": null,
   "metadata": {},
   "outputs": [],
   "source": [
    "#initializing the stemmer\n",
    "ps=PorterStemmer()\n",
    "\n",
    "#creating a function to tokenize and stem the tokens\n",
    "def stem_and_tokenize(document):\n",
    "    tokens = tokenizer.tokenize(document)\n",
    "    return [ps.stem(token) for token in tokens]"
   ]
  },
  {
   "cell_type": "code",
   "execution_count": null,
   "metadata": {},
   "outputs": [],
   "source": [
    "df['stemmed_tokens'] = df['tweet_text'].apply(stem_and_tokenize)\n",
    "df.head()"
   ]
  },
  {
   "cell_type": "code",
   "execution_count": null,
   "metadata": {},
   "outputs": [],
   "source": [
    "#running logistic regression on the stemmed tokens\n",
    "#re-defining X and y\n",
    "X = df['stemmed_tokens']\n",
    "y = df['target']\n",
    "\n",
    "X_train2,X_test2,y_train2,y_test2 = train_test_split(X,y,random_state=123)"
   ]
  },
  {
   "cell_type": "code",
   "execution_count": null,
   "metadata": {},
   "outputs": [],
   "source": [
    "lr_pipe = Pipeline([('vectrorizer',CountVectorizer(stop_words=stopwords_list,preprocessor=dummy,tokenizer=dummy,\n",
    "                                                  ngram_range=(1,2),min_df=1,max_df=2000)),\n",
    "                    ('model',LogisticRegression(random_state=123))\n",
    "                   ])\n",
    "\n",
    "lr_pipe.fit(X_train2,y_train2)\n",
    "predictions=lr_pipe.predict(X_test2)\n",
    "print(classification_report(y_test2,predictions,target_names=names))"
   ]
  },
  {
   "cell_type": "code",
   "execution_count": null,
   "metadata": {},
   "outputs": [],
   "source": []
  }
 ],
 "metadata": {
  "kernelspec": {
   "display_name": "Python (learn-env)",
   "language": "python",
   "name": "learn-env"
  },
  "language_info": {
   "codemirror_mode": {
    "name": "ipython",
    "version": 3
   },
   "file_extension": ".py",
   "mimetype": "text/x-python",
   "name": "python",
   "nbconvert_exporter": "python",
   "pygments_lexer": "ipython3",
   "version": "3.8.5"
  },
  "toc": {
   "base_numbering": 1,
   "nav_menu": {},
   "number_sections": true,
   "sideBar": true,
   "skip_h1_title": false,
   "title_cell": "Table of Contents",
   "title_sidebar": "Contents",
   "toc_cell": false,
   "toc_position": {
    "height": "calc(100% - 180px)",
    "left": "10px",
    "top": "150px",
    "width": "384px"
   },
   "toc_section_display": true,
   "toc_window_display": true
  }
 },
 "nbformat": 4,
 "nbformat_minor": 4
}
